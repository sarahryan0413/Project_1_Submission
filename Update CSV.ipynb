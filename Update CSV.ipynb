{
 "cells": [
  {
   "cell_type": "code",
   "execution_count": 12,
   "metadata": {},
   "outputs": [
    {
     "name": "stdout",
     "output_type": "stream",
     "text": [
      "                                Track                        Album Name  \\\n",
      "0                 MILLION DOLLAR BABY      Million Dollar Baby - Single   \n",
      "1                         Not Like Us                       Not Like Us   \n",
      "2          i like the way you kiss me        I like the way you kiss me   \n",
      "3                             Flowers                  Flowers - Single   \n",
      "4                             Houdini                           Houdini   \n",
      "...                               ...                               ...   \n",
      "4595                For the Last Time                 For the Last Time   \n",
      "4596                 Dil Meri Na Sune  Dil Meri Na Sune (From \"Genius\")   \n",
      "4597            Grace (feat. 42 Dugg)                           My Turn   \n",
      "4598              Nashe Si Chadh Gayi             November Top 10 Songs   \n",
      "4599  Me Acostumbre (feat. Bad Bunny)   Me Acostumbre (feat. Bad Bunny)   \n",
      "\n",
      "              Artist Release Date          ISRC All Time Rank  Track Score  \\\n",
      "0      Tommy Richman    4/26/2024  QM24S2402528             1        725.4   \n",
      "1     Kendrick Lamar     5/4/2024  USUG12400910             2        545.9   \n",
      "2            Artemas    3/19/2024  QZJ842400387             3        538.4   \n",
      "3        Miley Cyrus    1/12/2023  USSM12209777             4        444.9   \n",
      "4             Eminem    5/31/2024  USUG12403398             5        423.3   \n",
      "...              ...          ...           ...           ...          ...   \n",
      "4595     $uicideboy$     9/5/2017  QM8DG1703420         4,585         19.4   \n",
      "4596      Atif Aslam    7/27/2018  INT101800122         4,575         19.4   \n",
      "4597        Lil Baby    2/28/2020  USUG12000043         4,571         19.4   \n",
      "4598    Arijit Singh    11/8/2016  INY091600067         4,591         19.4   \n",
      "4599       Arcï¿½ï¿½    4/11/2017  USB271700107         4,593         19.4   \n",
      "\n",
      "     Spotify Streams Spotify Playlist Count Spotify Playlist Reach  ...  \\\n",
      "0        390,470,936                 30,716            196,631,588  ...   \n",
      "1        323,703,884                 28,113            174,597,137  ...   \n",
      "2        601,309,283                 54,331            211,607,669  ...   \n",
      "3      2,031,280,633                269,802            136,569,078  ...   \n",
      "4        107,034,922                  7,223            151,469,874  ...   \n",
      "...              ...                    ...                    ...  ...   \n",
      "4595     305,049,963                 65,770              5,103,054  ...   \n",
      "4596      52,282,360                  4,602              1,449,767  ...   \n",
      "4597     189,972,685                 72,066              6,704,802  ...   \n",
      "4598     145,467,020                 14,037              7,387,064  ...   \n",
      "4599     255,740,653                 32,138             14,066,526  ...   \n",
      "\n",
      "      SiriusXM Spins Deezer Playlist Count Deezer Playlist Reach  \\\n",
      "0                684                  62.0            17,598,718   \n",
      "1                  3                  67.0            10,422,430   \n",
      "2                536                 136.0            36,321,847   \n",
      "3              2,182                 264.0            24,684,248   \n",
      "4                  1                  82.0            17,660,624   \n",
      "...              ...                   ...                   ...   \n",
      "4595             NaN                   2.0                14,217   \n",
      "4596             NaN                   1.0                   927   \n",
      "4597             NaN                   1.0                    74   \n",
      "4598             NaN                   NaN                   NaN   \n",
      "4599             NaN                   4.0               127,479   \n",
      "\n",
      "     Amazon Playlist Count Pandora Streams Pandora Track Stations  \\\n",
      "0                    114.0      18,004,655                 22,931   \n",
      "1                    111.0       7,780,028                 28,444   \n",
      "2                    172.0       5,022,621                  5,639   \n",
      "3                    210.0     190,260,277                203,384   \n",
      "4                    105.0       4,493,884                  7,006   \n",
      "...                    ...             ...                    ...   \n",
      "4595                   NaN      20,104,066                 13,184   \n",
      "4596                   NaN             NaN                    NaN   \n",
      "4597                   6.0      84,426,740                 28,999   \n",
      "4598                   7.0       6,817,840                    NaN   \n",
      "4599                   4.0      69,006,739                 11,320   \n",
      "\n",
      "     Soundcloud Streams  Shazam Counts TIDAL Popularity Explicit Track  \n",
      "0             4,818,457      2,669,262              NaN              0  \n",
      "1             6,623,075      1,118,279              NaN              1  \n",
      "2             7,208,651      5,285,340              NaN              0  \n",
      "3                   NaN     11,822,942              NaN              0  \n",
      "4               207,179        457,017              NaN              1  \n",
      "...                 ...            ...              ...            ...  \n",
      "4595         50,633,006        656,337              NaN              1  \n",
      "4596                NaN        193,590              NaN              0  \n",
      "4597                NaN      1,135,998              NaN              1  \n",
      "4598                NaN        448,292              NaN              0  \n",
      "4599                NaN        767,006              NaN              1  \n",
      "\n",
      "[4600 rows x 29 columns]\n"
     ]
    }
   ],
   "source": [
    "# Dependencies\n",
    "import pandas as pd                     # for handling and structuring data\n",
    "import matplotlib.pyplot as plt         # for creating plots\n",
    "import scipy.stats as st                # for statistical functions\n",
    "import numpy as np                      # for generating random numbers and handling numerical operations\n",
    "from scipy.stats import linregress      # for calculating linear regression\n",
    "\n",
    "# need to switch to csv\n",
    "# Load the CSV file\n",
    "file_path = 'Most Streamed Spotify Songs 2024 - Research.csv'\n",
    "csv_df = pd.read_csv(file_path, header=0)\n",
    "\n",
    "# Display sheet names to identify relevant data\n",
    "print(csv_df)"
   ]
  },
  {
   "cell_type": "code",
   "execution_count": 13,
   "metadata": {},
   "outputs": [
    {
     "name": "stdout",
     "output_type": "stream",
     "text": [
      "Index(['Track', 'Album Name', 'Artist', 'Release Date', 'ISRC',\n",
      "       'All Time Rank', 'Track Score', 'Spotify Streams',\n",
      "       'Spotify Playlist Count', 'Spotify Playlist Reach',\n",
      "       'Spotify Popularity', 'YouTube Views', 'YouTube Likes', 'TikTok Posts',\n",
      "       'TikTok Likes', 'TikTok Views', 'YouTube Playlist Reach',\n",
      "       'Apple Music Playlist Count', 'AirPlay Spins', 'SiriusXM Spins',\n",
      "       'Deezer Playlist Count', 'Deezer Playlist Reach',\n",
      "       'Amazon Playlist Count', 'Pandora Streams', 'Pandora Track Stations',\n",
      "       'Soundcloud Streams', 'Shazam Counts', 'TIDAL Popularity',\n",
      "       'Explicit Track'],\n",
      "      dtype='object')\n"
     ]
    }
   ],
   "source": [
    "print(csv_df.columns)"
   ]
  },
  {
   "cell_type": "code",
   "execution_count": 19,
   "metadata": {},
   "outputs": [
    {
     "name": "stdout",
     "output_type": "stream",
     "text": [
      "                        Track                    Album Name          Artist  \\\n",
      "0         MILLION DOLLAR BABY  Million Dollar Baby - Single   Tommy Richman   \n",
      "1                 Not Like Us                   Not Like Us  Kendrick Lamar   \n",
      "2  i like the way you kiss me    I like the way you kiss me         Artemas   \n",
      "3                     Flowers              Flowers - Single     Miley Cyrus   \n",
      "4                     Houdini                       Houdini          Eminem   \n",
      "\n",
      "  Release Date All Time Rank Spotify Streams Spotify Playlist Count  \\\n",
      "0    4/26/2024             1     390,470,936                 30,716   \n",
      "1     5/4/2024             2     323,703,884                 28,113   \n",
      "2    3/19/2024             3     601,309,283                 54,331   \n",
      "3    1/12/2023             4   2,031,280,633                269,802   \n",
      "4    5/31/2024             5     107,034,922                  7,223   \n",
      "\n",
      "  Spotify Playlist Reach  Spotify Popularity  YouTube Views YouTube Likes  \\\n",
      "0            196,631,588                92.0     84,274,754     1,713,126   \n",
      "1            174,597,137                92.0    116,347,040     3,486,739   \n",
      "2            211,607,669                92.0    122,599,116     2,228,730   \n",
      "3            136,569,078                85.0  1,096,100,899    10,629,796   \n",
      "4            151,469,874                88.0     77,373,957     3,670,188   \n",
      "\n",
      "  TikTok Posts   TikTok Likes    TikTok Views YouTube Playlist Reach  \\\n",
      "0    5,767,700    651,565,900   5,332,281,936            150,597,040   \n",
      "1      674,700     35,223,547     208,339,025            156,380,351   \n",
      "2    3,025,400    275,154,237   3,369,120,610            373,784,955   \n",
      "3    7,189,811  1,078,757,968  14,603,725,994          3,351,188,582   \n",
      "4       16,400            NaN             NaN            112,763,851   \n",
      "\n",
      "   Explicit Track  \n",
      "0               0  \n",
      "1               1  \n",
      "2               0  \n",
      "3               0  \n",
      "4               1  \n"
     ]
    }
   ],
   "source": [
    "# Select specific columns\n",
    "columns_to_select = [\n",
    "    'Track', 'Album Name', 'Artist', 'Release Date', 'All Time Rank',\n",
    "    'Spotify Streams', 'Spotify Playlist Count', 'Spotify Playlist Reach',\n",
    "    'Spotify Popularity', 'YouTube Views', 'YouTube Likes',\n",
    "    'TikTok Posts', 'TikTok Likes', 'TikTok Views',\n",
    "    'YouTube Playlist Reach', 'Explicit Track'\n",
    "]\n",
    "\n",
    "# Create new DataFrame with selected columns\n",
    "new_csv_df = csv_df[columns_to_select]\n",
    "\n",
    "# Display the first few rows of the new DataFrame\n",
    "print(new_csv_df.head())"
   ]
  },
  {
   "cell_type": "code",
   "execution_count": 24,
   "metadata": {},
   "outputs": [],
   "source": [
    "new_csv_df.to_csv('Resources/new_data.csv',index=False)"
   ]
  },
  {
   "cell_type": "code",
   "execution_count": null,
   "metadata": {},
   "outputs": [],
   "source": []
  }
 ],
 "metadata": {
  "kernelspec": {
   "display_name": "base",
   "language": "python",
   "name": "python3"
  },
  "language_info": {
   "codemirror_mode": {
    "name": "ipython",
    "version": 3
   },
   "file_extension": ".py",
   "mimetype": "text/x-python",
   "name": "python",
   "nbconvert_exporter": "python",
   "pygments_lexer": "ipython3",
   "version": "3.12.7"
  }
 },
 "nbformat": 4,
 "nbformat_minor": 2
}
